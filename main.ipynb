{
  "nbformat": 4,
  "nbformat_minor": 0,
  "metadata": {
    "colab": {
      "name": "main.ipynb",
      "provenance": [],
      "collapsed_sections": [],
      "authorship_tag": "ABX9TyPr5DNP9svIKnWLyxcRSBfR",
      "include_colab_link": true
    },
    "kernelspec": {
      "name": "python3",
      "display_name": "Python 3"
    },
    "language_info": {
      "name": "python"
    }
  },
  "cells": [
    {
      "cell_type": "markdown",
      "metadata": {
        "id": "view-in-github",
        "colab_type": "text"
      },
      "source": [
        "<a href=\"https://colab.research.google.com/github/iamchetry/DeepQNetworks/blob/main/main.ipynb\" target=\"_parent\"><img src=\"https://colab.research.google.com/assets/colab-badge.svg\" alt=\"Open In Colab\"/></a>"
      ]
    },
    {
      "cell_type": "code",
      "metadata": {
        "colab": {
          "base_uri": "https://localhost:8080/"
        },
        "id": "TaZ-3yjb0uZH",
        "outputId": "e45cd666-989f-459a-dac5-f55daa99a488"
      },
      "source": [
        "from google.colab import drive\n",
        "drive.mount(\"mnt\")\n",
        "\n",
        "%cd \"mnt/My Drive/Colab Notebooks\"\n",
        "\n",
        "!pip install import-ipynb\n",
        "import import_ipynb"
      ],
      "execution_count": null,
      "outputs": [
        {
          "output_type": "stream",
          "text": [
            "Mounted at mnt\n",
            "/content/mnt/My Drive/Colab Notebooks\n",
            "Requirement already satisfied: import-ipynb in /usr/local/lib/python3.7/dist-packages (0.1.3)\n"
          ],
          "name": "stdout"
        }
      ]
    },
    {
      "cell_type": "markdown",
      "metadata": {
        "id": "qCwWZ6TT1_Qa"
      },
      "source": [
        "## **DQN**"
      ]
    },
    {
      "cell_type": "code",
      "metadata": {
        "id": "gdGvdI7i01VP"
      },
      "source": [
        "import RLAssignment2DQN"
      ],
      "execution_count": null,
      "outputs": []
    },
    {
      "cell_type": "markdown",
      "metadata": {
        "id": "QvrPbfDh2Csi"
      },
      "source": [
        "## **Grid World**"
      ]
    },
    {
      "cell_type": "code",
      "metadata": {
        "id": "MeJQL9MX1cKj"
      },
      "source": [
        "dqn_model = grid_world_main()\n",
        "grid_world_special_case(dqn_model)"
      ],
      "execution_count": null,
      "outputs": []
    },
    {
      "cell_type": "markdown",
      "metadata": {
        "id": "Y99OHt0P2Gtq"
      },
      "source": [
        "## **Cart Pole**"
      ]
    },
    {
      "cell_type": "code",
      "metadata": {
        "id": "-iVRY6DN01YY"
      },
      "source": [
        "dqn_model = cart_pole_main()\n",
        "evalTrainedModel('CartPole-v0', dqn_model)"
      ],
      "execution_count": null,
      "outputs": []
    },
    {
      "cell_type": "markdown",
      "metadata": {
        "id": "4jpfEq5Z2JU8"
      },
      "source": [
        "## **Lunar Lander**"
      ]
    },
    {
      "cell_type": "code",
      "metadata": {
        "id": "ttNh50j201bu"
      },
      "source": [
        "dqn_model = lunar_lander_main()\n",
        "evalTrainedModel('LunarLander-v2', dqn_model)"
      ],
      "execution_count": null,
      "outputs": []
    },
    {
      "cell_type": "markdown",
      "metadata": {
        "id": "SruVdgxi1zLb"
      },
      "source": [
        "## **Double DQN**"
      ]
    },
    {
      "cell_type": "code",
      "metadata": {
        "id": "UunGPGhE1pZk"
      },
      "source": [
        "import RLAssignment2DoubleDQN"
      ],
      "execution_count": null,
      "outputs": []
    },
    {
      "cell_type": "markdown",
      "metadata": {
        "id": "XhEFkcmP2Muk"
      },
      "source": [
        "## **Grid World**"
      ]
    },
    {
      "cell_type": "code",
      "metadata": {
        "id": "43_C9WdM1pb5"
      },
      "source": [
        "dqn_model = grid_world_main()\n",
        "grid_world_special_case(dqn_model)"
      ],
      "execution_count": null,
      "outputs": []
    },
    {
      "cell_type": "markdown",
      "metadata": {
        "id": "o8i-Bza82Pxp"
      },
      "source": [
        "## **Cart Pole**"
      ]
    },
    {
      "cell_type": "code",
      "metadata": {
        "id": "xxsxd9qi1peM"
      },
      "source": [
        "dqn_model = cart_pole_main()\n",
        "evalTrainedModel('CartPole-v0', dqn_model)"
      ],
      "execution_count": null,
      "outputs": []
    },
    {
      "cell_type": "markdown",
      "metadata": {
        "id": "D7jr50542SQg"
      },
      "source": [
        "## **Lunar Lander**"
      ]
    },
    {
      "cell_type": "code",
      "metadata": {
        "id": "ubpwmbjm1xTY"
      },
      "source": [
        "dqn_model = lunar_lander_main()\n",
        "evalTrainedModel('LunarLander-v2', dqn_model)"
      ],
      "execution_count": null,
      "outputs": []
    }
  ]
}